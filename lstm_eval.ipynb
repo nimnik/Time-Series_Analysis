{
  "nbformat": 4,
  "nbformat_minor": 0,
  "metadata": {
    "colab": {
      "provenance": [],
      "machine_shape": "hm"
    },
    "kernelspec": {
      "name": "python3",
      "display_name": "Python 3"
    },
    "language_info": {
      "name": "python"
    }
  },
  "cells": [
    {
      "cell_type": "code",
      "execution_count": null,
      "metadata": {
        "colab": {
          "base_uri": "https://localhost:8080/"
        },
        "id": "Jx5KX1ysu403",
        "outputId": "6aa8edb7-4a85-4ab7-afa0-8ff5a52a7cd0"
      },
      "outputs": [
        {
          "output_type": "stream",
          "name": "stdout",
          "text": [
            "LSTM's prediction error (MSE) for 80-20 Single Split is: 41499.20639602444\n"
          ]
        },
        {
          "output_type": "stream",
          "name": "stderr",
          "text": [
            "100%|██████████| 1504/1504 [32:39<00:00,  1.30s/it]\n"
          ]
        },
        {
          "output_type": "stream",
          "name": "stdout",
          "text": [
            "Average LSTM's prediction error (MSE) for Sliding Window with size     7, Prediction Size 1, and Slide Size 1: 14807.435641128235\n"
          ]
        },
        {
          "output_type": "stream",
          "name": "stderr",
          "text": [
            "100%|██████████| 1481/1481 [34:48<00:00,  1.41s/it]"
          ]
        },
        {
          "output_type": "stream",
          "name": "stdout",
          "text": [
            "Average LSTM's prediction error (MSE) for Sliding Window with size     30, Prediction Size 1, and Slide Size 1: 15005.443116420838\n"
          ]
        },
        {
          "output_type": "stream",
          "name": "stderr",
          "text": [
            "\n"
          ]
        }
      ],
      "source": [
        "import pandas as pd\n",
        "import numpy as np\n",
        "from sklearn.metrics import mean_squared_error\n",
        "from tensorflow.keras.models import Sequential\n",
        "from tensorflow.keras.layers import LSTM, Dense\n",
        "from tqdm import tqdm\n",
        "\n",
        "import warnings\n",
        "from tensorflow import get_logger\n",
        "\n",
        "warnings.simplefilter('ignore', FutureWarning)\n",
        "warnings.simplefilter('ignore', UserWarning)\n",
        "get_logger().setLevel('ERROR')\n",
        "\n",
        "# Loading the dataset\n",
        "df = pd.read_csv(\"Microsoft_Stock.csv\")\n",
        "close_series = df[\"Close\"]\n",
        "\n",
        "########################### Single Split ###########################\n",
        "\n",
        "# Train-Test 80-20 split\n",
        "train_size = round(0.8 * len(close_series))\n",
        "\n",
        "# Specifying Train and Test data\n",
        "train_data = close_series[:train_size].to_numpy().reshape(1, train_size, 1)\n",
        "target_data = close_series[train_size:].to_numpy().reshape(1, len(close_series) - train_size, 1)\n",
        "\n",
        "# Training LSTM on the train data\n",
        "lstm_model = Sequential()\n",
        "lstm_model.add(LSTM(units=8, input_shape=(train_size, 1)))\n",
        "lstm_model.add(Dense(len(close_series) - train_size))\n",
        "lstm_model.compile(loss='mean_squared_error', optimizer='adam')\n",
        "\n",
        "# Predicting the future prices, using trained LSTM model\n",
        "lstm_model.fit(train_data, target_data, epochs=2, batch_size=1, verbose=0)\n",
        "pred_lstm = lstm_model.predict(train_data, verbose=0)\n",
        "\n",
        "# Calculating the Error of LSTM's prediction\n",
        "pred_err_lstm = mean_squared_error(target_data.ravel(), pred_lstm.ravel())\n",
        "\n",
        "# Calculating the average Error of LSTM's prediction\n",
        "print(f\"LSTM's prediction error (MSE) for 80-20 Single Split is: {pred_err_lstm}\")\n",
        "\n",
        "########################### Sliding Window ###########################\n",
        "\n",
        "# Sliding window strategy parameters\n",
        "train_size_list = [7, 30] # Replave with [7, 30, 100, 30, 100] for full evaluation\n",
        "pred_size_list = [1, 1] # Replave with [1, 1, 1, 7, 7] for full evaluation\n",
        "slide_size_list = [1, 1] # Replave with [1, 1, 1, 7, 7] for full evaluation\n",
        "\n",
        "\n",
        "# The fine-tuning loop\n",
        "for train_size, pred_size, slide_size in zip(train_size_list, pred_size_list, slide_size_list):\n",
        "    # Error list\n",
        "    error_list = []\n",
        "\n",
        "    # Looping over the data using sliding window\n",
        "    for i in tqdm(range(train_size, len(close_series) - pred_size + 1, slide_size)):\n",
        "        # Specifying Train and Test data\n",
        "        train_data = close_series[(i-train_size):i].to_numpy().reshape(1, train_size, 1)\n",
        "        target_data = close_series[i:(i+pred_size)].to_numpy().reshape(1, pred_size, 1)\n",
        "\n",
        "        # Training LSTM on the train data\n",
        "        lstm_model = Sequential()\n",
        "        lstm_model.add(LSTM(units=8, input_shape=(train_size, 1)))\n",
        "        lstm_model.add(Dense(pred_size))\n",
        "        lstm_model.compile(loss='mean_squared_error', optimizer='adam')\n",
        "\n",
        "        # Predicting the future prices, using trained LSTM model\n",
        "        lstm_model.fit(train_data, target_data, epochs=2, batch_size=1, verbose=0)\n",
        "        pred_lstm = lstm_model.predict(train_data, verbose=0)\n",
        "\n",
        "        # Calculating the Error of LSTM's prediction\n",
        "        pred_err_lstm = mean_squared_error(target_data.ravel(), pred_lstm.ravel())\n",
        "        error_list.append(pred_err_lstm)\n",
        "\n",
        "    # Calculating the average Error of LSTM's prediction\n",
        "    print(f\"Average LSTM's prediction error (MSE) for Sliding Window with size \\\n",
        "    {train_size}, Prediction Size {pred_size}, and Slide Size {slide_size}: {np.mean(error_list)}\")"
      ]
    },
    {
      "cell_type": "code",
      "source": [
        "import pandas as pd\n",
        "import numpy as np\n",
        "from sklearn.metrics import mean_squared_error\n",
        "from tensorflow.keras.models import Sequential\n",
        "from tensorflow.keras.layers import LSTM, Dense\n",
        "from tqdm import tqdm\n",
        "\n",
        "import warnings\n",
        "from tensorflow import get_logger\n",
        "\n",
        "warnings.simplefilter('ignore', FutureWarning)\n",
        "warnings.simplefilter('ignore', UserWarning)\n",
        "get_logger().setLevel('ERROR')\n",
        "\n",
        "# Loading the dataset\n",
        "df = pd.read_csv(\"Microsoft_Stock.csv\")\n",
        "close_series = df[\"Close\"]\n",
        "\n",
        "\n",
        "# ########################### Expanding Window ###########################\n",
        "\n",
        "# Expanding window strategy parameters\n",
        "train_size_list = [30, 100]\n",
        "pred_size_list = [1, 1]\n",
        "slide_size_list = [1, 1]\n",
        "\n",
        "\n",
        "# The fine-tuning loop\n",
        "for train_size, pred_size, slide_size in zip(train_size_list, pred_size_list, slide_size_list):\n",
        "    # Error list\n",
        "    error_list = []\n",
        "\n",
        "    # Looping over the data using expanding window\n",
        "    for i in tqdm(range(train_size, len(close_series) - pred_size + 1, slide_size)):\n",
        "        # Specifying Train and Test data\n",
        "        train_data = close_series[:i].to_numpy().reshape(1, i, 1)\n",
        "        target_data = close_series[i:(i+pred_size)].to_numpy().reshape(1, pred_size, 1)\n",
        "\n",
        "        # Training LSTM on the train data\n",
        "        lstm_model = Sequential()\n",
        "        lstm_model.add(LSTM(units=8, input_shape=(i, 1)))\n",
        "        lstm_model.add(Dense(pred_size))\n",
        "        lstm_model.compile(loss='mean_squared_error', optimizer='adam')\n",
        "\n",
        "        # Predicting the future prices, using trained LSTM model\n",
        "        lstm_model.fit(train_data, target_data, epochs=2, batch_size=1, verbose=0)\n",
        "        pred_lstm = lstm_model.predict(train_data, verbose=0)\n",
        "\n",
        "        # Calculating the Error of LSTM's prediction\n",
        "        pred_err_lstm = mean_squared_error(target_data.ravel(), pred_lstm.ravel())\n",
        "        error_list.append(pred_err_lstm)\n",
        "\n",
        "    # Calculating the average Error of LSTM's prediction\n",
        "    print(f\"Average LSTM's prediction error (MSE) for Expanding Window with intitial size \\\n",
        "    {train_size}, Prediction Size {pred_size}, and Expand Size {slide_size}: {np.mean(error_list)}\")"
      ],
      "metadata": {
        "colab": {
          "base_uri": "https://localhost:8080/"
        },
        "id": "ZuzVu5yN4qAM",
        "outputId": "d81d6aa4-ba4b-4ea0-a4c0-f28bcba654af"
      },
      "execution_count": null,
      "outputs": [
        {
          "output_type": "stream",
          "name": "stderr",
          "text": [
            "100%|██████████| 1481/1481 [37:47<00:00,  1.53s/it]\n"
          ]
        },
        {
          "output_type": "stream",
          "name": "stdout",
          "text": [
            "Average LSTM's prediction error (MSE) for Expanding Window with intitial size     30, Prediction Size 1, and Expand Size 1: 15014.981251249174\n"
          ]
        },
        {
          "output_type": "stream",
          "name": "stderr",
          "text": [
            "100%|██████████| 1411/1411 [37:10<00:00,  1.58s/it]"
          ]
        },
        {
          "output_type": "stream",
          "name": "stdout",
          "text": [
            "Average LSTM's prediction error (MSE) for Expanding Window with intitial size     100, Prediction Size 1, and Expand Size 1: 15647.249746989055\n"
          ]
        },
        {
          "output_type": "stream",
          "name": "stderr",
          "text": [
            "\n"
          ]
        }
      ]
    }
  ]
}