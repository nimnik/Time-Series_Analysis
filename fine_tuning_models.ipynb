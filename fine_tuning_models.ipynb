{
  "nbformat": 4,
  "nbformat_minor": 0,
  "metadata": {
    "colab": {
      "provenance": []
    },
    "kernelspec": {
      "name": "python3",
      "display_name": "Python 3"
    },
    "language_info": {
      "name": "python"
    }
  },
  "cells": [
    {
      "cell_type": "markdown",
      "source": [
        "## **Fine-Tuning ARIMA by choosing different order combinations**"
      ],
      "metadata": {
        "id": "rkfBJMjhWmnv"
      }
    },
    {
      "cell_type": "code",
      "source": [
        "import pandas as pd\n",
        "import numpy as np\n",
        "from statsmodels.tsa.arima.model import ARIMA\n",
        "from sklearn.metrics import mean_squared_error\n",
        "from tqdm import tqdm\n",
        "\n",
        "import warnings\n",
        "from statsmodels.tools.sm_exceptions import ConvergenceWarning\n",
        "\n",
        "warnings.simplefilter('ignore', ConvergenceWarning)\n",
        "warnings.simplefilter('ignore', UserWarning)\n",
        "\n",
        "# Loading the dataset\n",
        "df = pd.read_csv(\"Microsoft_Stock.csv\")\n",
        "close_series = df[\"Close\"]\n",
        "\n",
        "# Fixed sliding window strategy parameters\n",
        "train_size = 7\n",
        "pred_size = 1\n",
        "slide_size = 1\n",
        "\n",
        "# Different order values chosen for fine-tuning\n",
        "order_list = [(0,0,0), (1,0,0), (0,0,1), (1,0,1),\\\n",
        "                (0,1,0), (1,1,0), (0,1,1), (1,1,1), (2,0,0), (0,0,2)]\n",
        "\n",
        "# The fine-tuning loop\n",
        "for order in order_list:\n",
        "    # Error list\n",
        "    error_list = []\n",
        "\n",
        "    # Looping over the data using sliding window\n",
        "    for i in tqdm(range(train_size, len(close_series) - pred_size + 1, slide_size)):\n",
        "        # Specifying Train and Test data\n",
        "        train_data = close_series[(i-train_size):i]\n",
        "        test_data = close_series[i:(i+slide_size)]\n",
        "\n",
        "        # Training ARIMA on the train data\n",
        "        arima = ARIMA(endog=train_data, order=order)\n",
        "        arima_trained_model = arima.fit()\n",
        "\n",
        "        # Predicting the future prices, using trained ARIMA model\n",
        "        pred_arima = arima_trained_model.predict(start=i, end=(i + slide_size - 1))\n",
        "\n",
        "        # Calculating the Error of ARIMA's prediction\n",
        "        pred_err_arima = mean_squared_error(test_data, pred_arima)\n",
        "        error_list.append(pred_err_arima)\n",
        "\n",
        "    # Calculating the average Error of ARIMA's prediction\n",
        "    print(f\"Average ARIMA's prediction error (MSE) for order {order} is: {np.mean(error_list)}\")"
      ],
      "metadata": {
        "colab": {
          "base_uri": "https://localhost:8080/"
        },
        "id": "2oQ5BNYcW98M",
        "outputId": "d88266fa-f7c5-436d-acb6-a0f0a5ec0ec0"
      },
      "execution_count": 1,
      "outputs": [
        {
          "output_type": "stream",
          "name": "stderr",
          "text": [
            "100%|██████████| 1504/1504 [01:42<00:00, 14.66it/s]\n"
          ]
        },
        {
          "output_type": "stream",
          "name": "stdout",
          "text": [
            "Average ARIMA's prediction error (MSE) for order (0, 0, 0) is: 10.522138846745884\n"
          ]
        },
        {
          "output_type": "stream",
          "name": "stderr",
          "text": [
            "100%|██████████| 1504/1504 [01:39<00:00, 15.14it/s]\n"
          ]
        },
        {
          "output_type": "stream",
          "name": "stdout",
          "text": [
            "Average ARIMA's prediction error (MSE) for order (1, 0, 0) is: 10.145154975983612\n"
          ]
        },
        {
          "output_type": "stream",
          "name": "stderr",
          "text": [
            "100%|██████████| 1504/1504 [02:24<00:00, 10.39it/s]\n"
          ]
        },
        {
          "output_type": "stream",
          "name": "stdout",
          "text": [
            "Average ARIMA's prediction error (MSE) for order (0, 0, 1) is: 10.410595964898095\n"
          ]
        },
        {
          "output_type": "stream",
          "name": "stderr",
          "text": [
            "100%|██████████| 1504/1504 [03:20<00:00,  7.48it/s]\n"
          ]
        },
        {
          "output_type": "stream",
          "name": "stdout",
          "text": [
            "Average ARIMA's prediction error (MSE) for order (1, 0, 1) is: 10.271064418308898\n"
          ]
        },
        {
          "output_type": "stream",
          "name": "stderr",
          "text": [
            "100%|██████████| 1504/1504 [01:13<00:00, 20.46it/s]\n"
          ]
        },
        {
          "output_type": "stream",
          "name": "stdout",
          "text": [
            "Average ARIMA's prediction error (MSE) for order (0, 1, 0) is: 5.586767752659575\n"
          ]
        },
        {
          "output_type": "stream",
          "name": "stderr",
          "text": [
            "100%|██████████| 1504/1504 [01:23<00:00, 17.93it/s]\n"
          ]
        },
        {
          "output_type": "stream",
          "name": "stdout",
          "text": [
            "Average ARIMA's prediction error (MSE) for order (1, 1, 0) is: 11.549010634019528\n"
          ]
        },
        {
          "output_type": "stream",
          "name": "stderr",
          "text": [
            "100%|██████████| 1504/1504 [01:59<00:00, 12.63it/s]\n"
          ]
        },
        {
          "output_type": "stream",
          "name": "stdout",
          "text": [
            "Average ARIMA's prediction error (MSE) for order (0, 1, 1) is: 6.218925486467489\n"
          ]
        },
        {
          "output_type": "stream",
          "name": "stderr",
          "text": [
            "100%|██████████| 1504/1504 [03:08<00:00,  7.99it/s]\n"
          ]
        },
        {
          "output_type": "stream",
          "name": "stdout",
          "text": [
            "Average ARIMA's prediction error (MSE) for order (1, 1, 1) is: 69487.80375236714\n"
          ]
        },
        {
          "output_type": "stream",
          "name": "stderr",
          "text": [
            "100%|██████████| 1504/1504 [02:04<00:00, 12.04it/s]\n"
          ]
        },
        {
          "output_type": "stream",
          "name": "stdout",
          "text": [
            "Average ARIMA's prediction error (MSE) for order (2, 0, 0) is: 10.428298861561702\n"
          ]
        },
        {
          "output_type": "stream",
          "name": "stderr",
          "text": [
            "100%|██████████| 1504/1504 [03:46<00:00,  6.65it/s]"
          ]
        },
        {
          "output_type": "stream",
          "name": "stdout",
          "text": [
            "Average ARIMA's prediction error (MSE) for order (0, 0, 2) is: 10.524395467022245\n"
          ]
        },
        {
          "output_type": "stream",
          "name": "stderr",
          "text": [
            "\n"
          ]
        }
      ]
    },
    {
      "cell_type": "markdown",
      "source": [
        "## **Fine-Tuning Exponential Smoothing by choosing different smoothing level values**"
      ],
      "metadata": {
        "id": "W-n4vPN7jXm-"
      }
    },
    {
      "cell_type": "code",
      "source": [
        "import pandas as pd\n",
        "import numpy as np\n",
        "from statsmodels.tsa.api import SimpleExpSmoothing\n",
        "from sklearn.metrics import mean_squared_error\n",
        "from tqdm import tqdm\n",
        "\n",
        "import warnings\n",
        "from statsmodels.tools.sm_exceptions import ConvergenceWarning\n",
        "\n",
        "warnings.simplefilter('ignore', ConvergenceWarning)\n",
        "warnings.simplefilter('ignore', UserWarning)\n",
        "\n",
        "# Loading the dataset\n",
        "df = pd.read_csv(\"Microsoft_Stock.csv\")\n",
        "close_series = df[\"Close\"]\n",
        "\n",
        "# Fixed sliding window strategy parameters\n",
        "train_size = 7\n",
        "pred_size = 1\n",
        "slide_size = 1\n",
        "\n",
        "# Different smoothing_level values chosen for fine-tuning\n",
        "smoothing_level_list = [0.10, 0.20, 0.30, 0.40,\\\n",
        "                0.50, 0.60, 0.70, 0.80, 0.90]\n",
        "\n",
        "# The fine-tuning loop\n",
        "for smooth_lvl in smoothing_level_list:\n",
        "    # Error list\n",
        "    error_list = []\n",
        "\n",
        "    # Looping over the data using sliding window\n",
        "    for i in tqdm(range(train_size, len(close_series) - pred_size + 1, slide_size)):\n",
        "        # Specifying Train and Test data\n",
        "        train_data = close_series[(i-train_size):i]\n",
        "        test_data = close_series[i:(i+slide_size)]\n",
        "\n",
        "        # Training Exponential Smoothing on the train data\n",
        "        exp_smoothing = SimpleExpSmoothing(train_data)\n",
        "        exp_trained_model = exp_smoothing.fit(smoothing_level=smooth_lvl)\n",
        "\n",
        "        # Predicting the future prices, using trained Exponential Smoothing model\n",
        "        pred_exp = exp_trained_model.forecast(len(test_data))\n",
        "\n",
        "        # Calculating the Error of Exponential Smoothing's prediction\n",
        "        pred_err_exp = mean_squared_error(test_data, pred_exp)\n",
        "        error_list.append(pred_err_exp)\n",
        "\n",
        "    # Calculating the average Error of Exponential Smoothing's prediction\n",
        "    print(f\"Average Exponential Smoothing's prediction error (MSE) for smoothing level {smooth_lvl} is: {np.mean(error_list)}\")"
      ],
      "metadata": {
        "colab": {
          "base_uri": "https://localhost:8080/"
        },
        "id": "Esk4DCZejYAE",
        "outputId": "c06dc1bc-cb7f-47ba-b4a7-52d25090f759"
      },
      "execution_count": 1,
      "outputs": [
        {
          "output_type": "stream",
          "name": "stderr",
          "text": [
            "100%|██████████| 1504/1504 [00:14<00:00, 105.66it/s]\n"
          ]
        },
        {
          "output_type": "stream",
          "name": "stdout",
          "text": [
            "Average Exponential Smoothing's prediction error (MSE) for smoothing level 0.1 is: 14.319177673976837\n"
          ]
        },
        {
          "output_type": "stream",
          "name": "stderr",
          "text": [
            "100%|██████████| 1504/1504 [00:06<00:00, 235.91it/s]\n"
          ]
        },
        {
          "output_type": "stream",
          "name": "stdout",
          "text": [
            "Average Exponential Smoothing's prediction error (MSE) for smoothing level 0.2 is: 9.736369538079849\n"
          ]
        },
        {
          "output_type": "stream",
          "name": "stderr",
          "text": [
            "100%|██████████| 1504/1504 [00:04<00:00, 362.70it/s]\n"
          ]
        },
        {
          "output_type": "stream",
          "name": "stdout",
          "text": [
            "Average Exponential Smoothing's prediction error (MSE) for smoothing level 0.3 is: 7.5204998879168485\n"
          ]
        },
        {
          "output_type": "stream",
          "name": "stderr",
          "text": [
            "100%|██████████| 1504/1504 [00:04<00:00, 359.74it/s]\n"
          ]
        },
        {
          "output_type": "stream",
          "name": "stdout",
          "text": [
            "Average Exponential Smoothing's prediction error (MSE) for smoothing level 0.4 is: 6.36585961491438\n"
          ]
        },
        {
          "output_type": "stream",
          "name": "stderr",
          "text": [
            "100%|██████████| 1504/1504 [00:04<00:00, 304.87it/s]\n"
          ]
        },
        {
          "output_type": "stream",
          "name": "stdout",
          "text": [
            "Average Exponential Smoothing's prediction error (MSE) for smoothing level 0.5 is: 5.730327679768015\n"
          ]
        },
        {
          "output_type": "stream",
          "name": "stderr",
          "text": [
            "100%|██████████| 1504/1504 [00:04<00:00, 374.37it/s]\n"
          ]
        },
        {
          "output_type": "stream",
          "name": "stdout",
          "text": [
            "Average Exponential Smoothing's prediction error (MSE) for smoothing level 0.6 is: 5.3864796253401055\n"
          ]
        },
        {
          "output_type": "stream",
          "name": "stderr",
          "text": [
            "100%|██████████| 1504/1504 [00:04<00:00, 368.49it/s]\n"
          ]
        },
        {
          "output_type": "stream",
          "name": "stdout",
          "text": [
            "Average Exponential Smoothing's prediction error (MSE) for smoothing level 0.7 is: 5.234431101847714\n"
          ]
        },
        {
          "output_type": "stream",
          "name": "stderr",
          "text": [
            "100%|██████████| 1504/1504 [00:04<00:00, 304.97it/s]\n"
          ]
        },
        {
          "output_type": "stream",
          "name": "stdout",
          "text": [
            "Average Exponential Smoothing's prediction error (MSE) for smoothing level 0.8 is: 5.227991150111377\n"
          ]
        },
        {
          "output_type": "stream",
          "name": "stderr",
          "text": [
            "100%|██████████| 1504/1504 [00:04<00:00, 358.99it/s]"
          ]
        },
        {
          "output_type": "stream",
          "name": "stdout",
          "text": [
            "Average Exponential Smoothing's prediction error (MSE) for smoothing level 0.9 is: 5.346844109643445\n"
          ]
        },
        {
          "output_type": "stream",
          "name": "stderr",
          "text": [
            "\n"
          ]
        }
      ]
    },
    {
      "cell_type": "markdown",
      "source": [
        "## **Fine-Tuning Random Forest by choosing different (n_estimators, random_state) combinations**"
      ],
      "metadata": {
        "id": "oVJAr0K9pt3p"
      }
    },
    {
      "cell_type": "code",
      "source": [
        "import pandas as pd\n",
        "import numpy as np\n",
        "from sklearn.ensemble import RandomForestRegressor\n",
        "from sklearn.metrics import mean_squared_error\n",
        "from tqdm import tqdm\n",
        "\n",
        "# Loading the dataset\n",
        "df = pd.read_csv(\"Microsoft_Stock.csv\")\n",
        "close_series = df[\"Close\"]\n",
        "\n",
        "# Fixed sliding window strategy parameters\n",
        "train_size = 7\n",
        "pred_size = 1\n",
        "slide_size = 1\n",
        "\n",
        "# Different n_estimators values chosen for fine-tuning\n",
        "n_estimators_list = [50, 100, 150]\n",
        "# Different random_state values chosen for fine-tuning\n",
        "random_state_list = [0, 21, 42]\n",
        "\n",
        "# The fine-tuning nested loop\n",
        "for n_est in n_estimators_list:\n",
        "    for random_st in random_state_list:\n",
        "        # Error list\n",
        "        error_list = []\n",
        "\n",
        "        # Looping over the data using sliding window\n",
        "        for i in tqdm(range(train_size, len(close_series) - pred_size + 1, slide_size)):\n",
        "            # Specifying Train and Test Inputs\n",
        "            train_input = np.arange((i-train_size),i)\n",
        "            test_input = np.arange(i,(i+slide_size))\n",
        "\n",
        "\n",
        "            # Specifying Train and Test targets\n",
        "            train_data = close_series[(i-train_size):i]\n",
        "            test_data = close_series[i:(i+slide_size)]\n",
        "\n",
        "            # Training Random Forest on the train data\n",
        "            rf = RandomForestRegressor(n_estimators=n_est, random_state=random_st)\n",
        "            rf.fit(train_input.reshape(-1,1), train_data)\n",
        "\n",
        "            # Predicting the future prices, using trained Random Forest model\n",
        "            pred_rf = rf.predict(test_input.reshape(-1, 1))\n",
        "\n",
        "            # Calculating the Error of Random Forest's prediction\n",
        "            pred_err_rf = mean_squared_error(test_data, pred_rf)\n",
        "            error_list.append(pred_err_rf)\n",
        "\n",
        "        # Calculating the average Error of Random Forest's prediction\n",
        "        print(f\"Average Random Forest's prediction error (MSE) for n_estimators {n_est} and random_state {random_st} is: {np.mean(error_list)}\")"
      ],
      "metadata": {
        "colab": {
          "base_uri": "https://localhost:8080/"
        },
        "id": "PFRkg9aypxY5",
        "outputId": "11435277-2477-47fa-9228-c706b2afc037"
      },
      "execution_count": 8,
      "outputs": [
        {
          "output_type": "stream",
          "name": "stderr",
          "text": [
            "100%|██████████| 1504/1504 [01:53<00:00, 13.22it/s]\n"
          ]
        },
        {
          "output_type": "stream",
          "name": "stdout",
          "text": [
            "Average Random Forest's prediction error (MSE) for n_estimators 50 and random_state 0 is: 5.229133800159579\n"
          ]
        },
        {
          "output_type": "stream",
          "name": "stderr",
          "text": [
            "100%|██████████| 1504/1504 [01:53<00:00, 13.26it/s]\n"
          ]
        },
        {
          "output_type": "stream",
          "name": "stdout",
          "text": [
            "Average Random Forest's prediction error (MSE) for n_estimators 50 and random_state 21 is: 5.229133800159579\n"
          ]
        },
        {
          "output_type": "stream",
          "name": "stderr",
          "text": [
            "100%|██████████| 1504/1504 [02:13<00:00, 11.30it/s]\n"
          ]
        },
        {
          "output_type": "stream",
          "name": "stdout",
          "text": [
            "Average Random Forest's prediction error (MSE) for n_estimators 50 and random_state 42 is: 5.327164486595748\n"
          ]
        },
        {
          "output_type": "stream",
          "name": "stderr",
          "text": [
            "100%|██████████| 1504/1504 [03:42<00:00,  6.76it/s]\n"
          ]
        },
        {
          "output_type": "stream",
          "name": "stdout",
          "text": [
            "Average Random Forest's prediction error (MSE) for n_estimators 100 and random_state 0 is: 5.236243959135613\n"
          ]
        },
        {
          "output_type": "stream",
          "name": "stderr",
          "text": [
            "100%|██████████| 1504/1504 [03:43<00:00,  6.74it/s]\n"
          ]
        },
        {
          "output_type": "stream",
          "name": "stdout",
          "text": [
            "Average Random Forest's prediction error (MSE) for n_estimators 100 and random_state 21 is: 5.2218503214893355\n"
          ]
        },
        {
          "output_type": "stream",
          "name": "stderr",
          "text": [
            "100%|██████████| 1504/1504 [03:43<00:00,  6.73it/s]\n"
          ]
        },
        {
          "output_type": "stream",
          "name": "stdout",
          "text": [
            "Average Random Forest's prediction error (MSE) for n_estimators 100 and random_state 42 is: 5.249265988982689\n"
          ]
        },
        {
          "output_type": "stream",
          "name": "stderr",
          "text": [
            "100%|██████████| 1504/1504 [05:27<00:00,  4.60it/s]\n"
          ]
        },
        {
          "output_type": "stream",
          "name": "stdout",
          "text": [
            "Average Random Forest's prediction error (MSE) for n_estimators 150 and random_state 0 is: 5.210497750508241\n"
          ]
        },
        {
          "output_type": "stream",
          "name": "stderr",
          "text": [
            "100%|██████████| 1504/1504 [05:26<00:00,  4.61it/s]\n"
          ]
        },
        {
          "output_type": "stream",
          "name": "stdout",
          "text": [
            "Average Random Forest's prediction error (MSE) for n_estimators 150 and random_state 21 is: 5.219323028835664\n"
          ]
        },
        {
          "output_type": "stream",
          "name": "stderr",
          "text": [
            "100%|██████████| 1504/1504 [05:26<00:00,  4.61it/s]"
          ]
        },
        {
          "output_type": "stream",
          "name": "stdout",
          "text": [
            "Average Random Forest's prediction error (MSE) for n_estimators 150 and random_state 42 is: 5.208270037644769\n"
          ]
        },
        {
          "output_type": "stream",
          "name": "stderr",
          "text": [
            "\n"
          ]
        }
      ]
    }
  ]
}