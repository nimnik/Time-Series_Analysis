{
  "nbformat": 4,
  "nbformat_minor": 0,
  "metadata": {
    "colab": {
      "provenance": [],
      "machine_shape": "hm"
    },
    "kernelspec": {
      "name": "python3",
      "display_name": "Python 3"
    },
    "language_info": {
      "name": "python"
    }
  },
  "cells": [
    {
      "cell_type": "markdown",
      "source": [
        "## **Finding Best Windowing Mechanism for ARIMA**"
      ],
      "metadata": {
        "id": "7fKNdCbNyCwD"
      }
    },
    {
      "cell_type": "code",
      "execution_count": 7,
      "metadata": {
        "colab": {
          "base_uri": "https://localhost:8080/"
        },
        "id": "3fL1Vba4yCEX",
        "outputId": "674121d1-51e3-45d3-df80-bb52c2426e5a"
      },
      "outputs": [
        {
          "output_type": "stream",
          "name": "stdout",
          "text": [
            "ARIMA's prediction error (MSE) for 80-20 Single Split is: 1870.9150672185433\n"
          ]
        },
        {
          "output_type": "stream",
          "name": "stderr",
          "text": [
            "100%|██████████| 1504/1504 [00:30<00:00, 49.82it/s]\n"
          ]
        },
        {
          "output_type": "stream",
          "name": "stdout",
          "text": [
            "Average ARIMA's prediction error (MSE) for Sliding Window with size     7, Prediction Size 1, and Slide Size 1: 5.586767752659575\n"
          ]
        },
        {
          "output_type": "stream",
          "name": "stderr",
          "text": [
            "100%|██████████| 1481/1481 [00:28<00:00, 52.18it/s]\n"
          ]
        },
        {
          "output_type": "stream",
          "name": "stdout",
          "text": [
            "Average ARIMA's prediction error (MSE) for Sliding Window with size     30, Prediction Size 1, and Slide Size 1: 5.654279945982443\n"
          ]
        },
        {
          "output_type": "stream",
          "name": "stderr",
          "text": [
            "100%|██████████| 1411/1411 [00:27<00:00, 51.54it/s]\n"
          ]
        },
        {
          "output_type": "stream",
          "name": "stdout",
          "text": [
            "Average ARIMA's prediction error (MSE) for Sliding Window with size     100, Prediction Size 1, and Slide Size 1: 5.916390503189229\n"
          ]
        },
        {
          "output_type": "stream",
          "name": "stderr",
          "text": [
            "100%|██████████| 211/211 [00:04<00:00, 49.51it/s]\n"
          ]
        },
        {
          "output_type": "stream",
          "name": "stdout",
          "text": [
            "Average ARIMA's prediction error (MSE) for Sliding Window with size     30, Prediction Size 7, and Slide Size 7: 17.115529451591065\n"
          ]
        },
        {
          "output_type": "stream",
          "name": "stderr",
          "text": [
            "100%|██████████| 201/201 [00:03<00:00, 50.98it/s]\n"
          ]
        },
        {
          "output_type": "stream",
          "name": "stdout",
          "text": [
            "Average ARIMA's prediction error (MSE) for Sliding Window with size     100, Prediction Size 7, and Slide Size 7: 17.93261336176262\n"
          ]
        },
        {
          "output_type": "stream",
          "name": "stderr",
          "text": [
            "100%|██████████| 1481/1481 [00:23<00:00, 61.76it/s]\n"
          ]
        },
        {
          "output_type": "stream",
          "name": "stdout",
          "text": [
            "Average ARIMA's prediction error (MSE) for Expanding Window with intitial size     30, Prediction Size 1, and Expand Size 1: 5.654279945982445\n"
          ]
        },
        {
          "output_type": "stream",
          "name": "stderr",
          "text": [
            "100%|██████████| 1411/1411 [00:23<00:00, 60.62it/s]\n"
          ]
        },
        {
          "output_type": "stream",
          "name": "stdout",
          "text": [
            "Average ARIMA's prediction error (MSE) for Expanding Window with intitial size     100, Prediction Size 1, and Expand Size 1: 5.916390503189229\n"
          ]
        },
        {
          "output_type": "stream",
          "name": "stderr",
          "text": [
            "100%|██████████| 201/201 [00:03<00:00, 61.84it/s]"
          ]
        },
        {
          "output_type": "stream",
          "name": "stdout",
          "text": [
            "Average ARIMA's prediction error (MSE) for Expanding Window with intitial size     100, Prediction Size 7, and Expand Size 7: 17.93261336176262\n"
          ]
        },
        {
          "output_type": "stream",
          "name": "stderr",
          "text": [
            "\n"
          ]
        }
      ],
      "source": [
        "import pandas as pd\n",
        "import numpy as np\n",
        "from statsmodels.tsa.arima.model import ARIMA\n",
        "from sklearn.metrics import mean_squared_error\n",
        "from tqdm import tqdm\n",
        "\n",
        "import warnings\n",
        "from statsmodels.tools.sm_exceptions import ConvergenceWarning\n",
        "\n",
        "warnings.simplefilter('ignore', ConvergenceWarning)\n",
        "warnings.simplefilter('ignore', UserWarning)\n",
        "\n",
        "# Loading the dataset\n",
        "df = pd.read_csv(\"Microsoft_Stock.csv\")\n",
        "close_series = df[\"Close\"]\n",
        "\n",
        "########################### Single Split ###########################\n",
        "\n",
        "# Train-Test 80-20 split\n",
        "train_size = round(0.8 * len(close_series))\n",
        "\n",
        "# Specifying Train and Test data\n",
        "train_data = close_series[:train_size]\n",
        "test_data = close_series[train_size:]\n",
        "\n",
        "# Training ARIMA on the train data with fixed order\n",
        "arima = ARIMA(endog=train_data, order=(0,1,0))\n",
        "arima_trained_model = arima.fit()\n",
        "\n",
        "# Predicting the future prices, using trained ARIMA model\n",
        "pred_arima = arima_trained_model.predict(start=train_size, end=(len(close_series) - 1))\n",
        "\n",
        "# Calculating the Error of ARIMA's prediction\n",
        "pred_err_arima = mean_squared_error(test_data, pred_arima)\n",
        "\n",
        "# Calculating the average Error of ARIMA's prediction\n",
        "print(f\"ARIMA's prediction error (MSE) for 80-20 Single Split is: {pred_err_arima}\")\n",
        "\n",
        "########################### Sliding Window ###########################\n",
        "\n",
        "# Sliding window strategy parameters\n",
        "train_size_list = [7, 30, 100, 30, 100]\n",
        "pred_size_list = [1, 1, 1, 7, 7]\n",
        "slide_size_list = [1, 1, 1, 7, 7]\n",
        "\n",
        "\n",
        "# The fine-tuning loop\n",
        "for train_size, pred_size, slide_size in zip(train_size_list, pred_size_list, slide_size_list):\n",
        "    # Error list\n",
        "    error_list = []\n",
        "\n",
        "    # Looping over the data using sliding window\n",
        "    for i in tqdm(range(train_size, len(close_series) - pred_size + 1, slide_size)):\n",
        "        # Specifying Train and Test data\n",
        "        train_data = close_series[(i-train_size):i]\n",
        "        test_data = close_series[i:(i+pred_size)]\n",
        "\n",
        "        # Training ARIMA on the train data with fixed order\n",
        "        arima = ARIMA(endog=train_data, order=(0,1,0))\n",
        "        arima_trained_model = arima.fit()\n",
        "\n",
        "        # Predicting the future prices, using trained ARIMA model\n",
        "        pred_arima = arima_trained_model.predict(start=i, end=(i + pred_size - 1))\n",
        "\n",
        "        # Calculating the Error of ARIMA's prediction\n",
        "        pred_err_arima = mean_squared_error(test_data, pred_arima)\n",
        "        error_list.append(pred_err_arima)\n",
        "\n",
        "    # Calculating the average Error of ARIMA's prediction\n",
        "    print(f\"Average ARIMA's prediction error (MSE) for Sliding Window with size \\\n",
        "    {train_size}, Prediction Size {pred_size}, and Slide Size {slide_size}: {np.mean(error_list)}\")\n",
        "\n",
        "########################### Expanding Window ###########################\n",
        "\n",
        "# Expanding window strategy parameters\n",
        "train_size_list = [30, 100, 100]\n",
        "pred_size_list = [1, 1, 7]\n",
        "slide_size_list = [1, 1, 7]\n",
        "\n",
        "\n",
        "# The fine-tuning loop\n",
        "for train_size, pred_size, slide_size in zip(train_size_list, pred_size_list, slide_size_list):\n",
        "    # Error list\n",
        "    error_list = []\n",
        "\n",
        "    # Looping over the data using expanding window\n",
        "    for i in tqdm(range(train_size, len(close_series) - pred_size + 1, slide_size)):\n",
        "        # Specifying Train and Test data\n",
        "        train_data = close_series[:i]\n",
        "        test_data = close_series[i:(i+pred_size)]\n",
        "\n",
        "        # Training ARIMA on the train data with fixed order\n",
        "        arima = ARIMA(endog=train_data, order=(0,1,0))\n",
        "        arima_trained_model = arima.fit()\n",
        "\n",
        "        # Predicting the future prices, using trained ARIMA model\n",
        "        pred_arima = arima_trained_model.predict(start=i, end=(i + pred_size - 1))\n",
        "\n",
        "        # Calculating the Error of ARIMA's prediction\n",
        "        pred_err_arima = mean_squared_error(test_data, pred_arima)\n",
        "        error_list.append(pred_err_arima)\n",
        "\n",
        "    # Calculating the average Error of ARIMA's prediction\n",
        "    print(f\"Average ARIMA's prediction error (MSE) for Expanding Window with intitial size \\\n",
        "    {train_size}, Prediction Size {pred_size}, and Expand Size {slide_size}: {np.mean(error_list)}\")"
      ]
    },
    {
      "cell_type": "markdown",
      "source": [
        "## **Finding Best Windowing Mechanism for Exponential Smoothing**"
      ],
      "metadata": {
        "id": "SSMwoC2I3uVU"
      }
    },
    {
      "cell_type": "code",
      "source": [
        "import pandas as pd\n",
        "import numpy as np\n",
        "from statsmodels.tsa.api import SimpleExpSmoothing\n",
        "from sklearn.metrics import mean_squared_error\n",
        "from tqdm import tqdm\n",
        "\n",
        "import warnings\n",
        "from statsmodels.tools.sm_exceptions import ConvergenceWarning\n",
        "\n",
        "warnings.simplefilter('ignore', ConvergenceWarning)\n",
        "warnings.simplefilter('ignore', UserWarning)\n",
        "\n",
        "# Loading the dataset\n",
        "df = pd.read_csv(\"Microsoft_Stock.csv\")\n",
        "close_series = df[\"Close\"]\n",
        "\n",
        "########################### Single Split ###########################\n",
        "\n",
        "# Train-Test 80-20 split\n",
        "train_size = round(0.8 * len(close_series))\n",
        "\n",
        "# Specifying Train and Test data\n",
        "train_data = close_series[:train_size]\n",
        "test_data = close_series[train_size:]\n",
        "\n",
        "# Training Exponential Smoothing on the train data with fixed smoothing_level\n",
        "exp_smoothing = SimpleExpSmoothing(train_data)\n",
        "exp_trained_model = exp_smoothing.fit(smoothing_level=0.8)\n",
        "\n",
        "# Predicting the future prices, using trained Exponential Smoothing model\n",
        "pred_exp = exp_trained_model.forecast(len(test_data))\n",
        "\n",
        "# Calculating the Error of Exponential Smoothing's prediction\n",
        "pred_err_exp = mean_squared_error(test_data, pred_exp)\n",
        "\n",
        "# Calculating the average Error of Exponential Smoothing's prediction\n",
        "print(f\"Exponential Smoothing's prediction error (MSE) for 80-20 Single Split is: {pred_err_exp}\")\n",
        "\n",
        "########################### Sliding Window ###########################\n",
        "\n",
        "# Sliding window strategy parameters\n",
        "train_size_list = [7, 30, 100, 30, 100]\n",
        "pred_size_list = [1, 1, 1, 7, 7]\n",
        "slide_size_list = [1, 1, 1, 7, 7]\n",
        "\n",
        "\n",
        "# The fine-tuning loop\n",
        "for train_size, pred_size, slide_size in zip(train_size_list, pred_size_list, slide_size_list):\n",
        "    # Error list\n",
        "    error_list = []\n",
        "\n",
        "    # Looping over the data using sliding window\n",
        "    for i in tqdm(range(train_size, len(close_series) - pred_size + 1, slide_size)):\n",
        "        # Specifying Train and Test data\n",
        "        train_data = close_series[(i-train_size):i]\n",
        "        test_data = close_series[i:(i+pred_size)]\n",
        "\n",
        "        # Training Exponential Smoothing on the train data with fixed smoothing_level\n",
        "        exp_smoothing = SimpleExpSmoothing(train_data)\n",
        "        exp_trained_model = exp_smoothing.fit(smoothing_level=0.8)\n",
        "\n",
        "        # Predicting the future prices, using trained Exponential Smoothing model\n",
        "        pred_exp = exp_trained_model.forecast(len(test_data))\n",
        "\n",
        "        # Calculating the Error of Exponential Smoothing's prediction\n",
        "        pred_err_exp = mean_squared_error(test_data, pred_exp)\n",
        "        error_list.append(pred_err_exp)\n",
        "\n",
        "    # Calculating the average Error of Exponential Smoothing's prediction\n",
        "    print(f\"Average Exponential Smoothing's prediction error (MSE) for Sliding Window with size \\\n",
        "    {train_size}, Prediction Size {pred_size}, and Slide Size {slide_size}: {np.mean(error_list)}\")\n",
        "\n",
        "########################### Expanding Window ###########################\n",
        "\n",
        "# Expanding window strategy parameters\n",
        "train_size_list = [30, 100, 100]\n",
        "pred_size_list = [1, 1, 7]\n",
        "slide_size_list = [1, 1, 7]\n",
        "\n",
        "\n",
        "# The fine-tuning loop\n",
        "for train_size, pred_size, slide_size in zip(train_size_list, pred_size_list, slide_size_list):\n",
        "    # Error list\n",
        "    error_list = []\n",
        "\n",
        "    # Looping over the data using expanding window\n",
        "    for i in tqdm(range(train_size, len(close_series) - pred_size + 1, slide_size)):\n",
        "        # Specifying Train and Test data\n",
        "        train_data = close_series[:i]\n",
        "        test_data = close_series[i:(i+pred_size)]\n",
        "\n",
        "        # Training Exponential Smoothing on the train data with fixed smoothing_level\n",
        "        exp_smoothing = SimpleExpSmoothing(train_data)\n",
        "        exp_trained_model = exp_smoothing.fit(smoothing_level=0.8)\n",
        "\n",
        "        # Predicting the future prices, using trained Exponential Smoothing model\n",
        "        pred_exp = exp_trained_model.forecast(len(test_data))\n",
        "\n",
        "        # Calculating the Error of Exponential Smoothing's prediction\n",
        "        pred_err_exp = mean_squared_error(test_data, pred_exp)\n",
        "        error_list.append(pred_err_exp)\n",
        "\n",
        "    # Calculating the average Error of Exponential Smoothing's prediction\n",
        "    print(f\"Average Exponential Smoothing's prediction error (MSE) for Expanding Window with initial size \\\n",
        "    {train_size}, Prediction Size {pred_size}, and Expand Size {slide_size}: {np.mean(error_list)}\")"
      ],
      "metadata": {
        "colab": {
          "base_uri": "https://localhost:8080/"
        },
        "id": "HYNnAB463un3",
        "outputId": "5fa77def-7e84-4a64-abe2-0e6245c2e10e"
      },
      "execution_count": 8,
      "outputs": [
        {
          "output_type": "stream",
          "name": "stdout",
          "text": [
            "Exponential Smoothing's prediction error (MSE) for 80-20 Single Split is: 1892.9343169631973\n"
          ]
        },
        {
          "output_type": "stream",
          "name": "stderr",
          "text": [
            "100%|██████████| 1504/1504 [00:02<00:00, 601.23it/s]\n"
          ]
        },
        {
          "output_type": "stream",
          "name": "stdout",
          "text": [
            "Average Exponential Smoothing's prediction error (MSE) for Sliding Window with size     7, Prediction Size 1, and Slide Size 1: 5.227991150111377\n"
          ]
        },
        {
          "output_type": "stream",
          "name": "stderr",
          "text": [
            "100%|██████████| 1481/1481 [00:02<00:00, 610.97it/s]\n"
          ]
        },
        {
          "output_type": "stream",
          "name": "stdout",
          "text": [
            "Average Exponential Smoothing's prediction error (MSE) for Sliding Window with size     30, Prediction Size 1, and Slide Size 1: 5.288308559748616\n"
          ]
        },
        {
          "output_type": "stream",
          "name": "stderr",
          "text": [
            "100%|██████████| 1411/1411 [00:02<00:00, 601.76it/s]\n"
          ]
        },
        {
          "output_type": "stream",
          "name": "stdout",
          "text": [
            "Average Exponential Smoothing's prediction error (MSE) for Sliding Window with size     100, Prediction Size 1, and Slide Size 1: 5.531357621364127\n"
          ]
        },
        {
          "output_type": "stream",
          "name": "stderr",
          "text": [
            "100%|██████████| 211/211 [00:00<00:00, 624.11it/s]\n"
          ]
        },
        {
          "output_type": "stream",
          "name": "stdout",
          "text": [
            "Average Exponential Smoothing's prediction error (MSE) for Sliding Window with size     30, Prediction Size 7, and Slide Size 7: 16.642436933242326\n"
          ]
        },
        {
          "output_type": "stream",
          "name": "stderr",
          "text": [
            "100%|██████████| 201/201 [00:00<00:00, 597.02it/s]\n"
          ]
        },
        {
          "output_type": "stream",
          "name": "stdout",
          "text": [
            "Average Exponential Smoothing's prediction error (MSE) for Sliding Window with size     100, Prediction Size 7, and Slide Size 7: 17.43480790075782\n"
          ]
        },
        {
          "output_type": "stream",
          "name": "stderr",
          "text": [
            "100%|██████████| 1481/1481 [00:03<00:00, 433.35it/s]\n"
          ]
        },
        {
          "output_type": "stream",
          "name": "stdout",
          "text": [
            "Average Exponential Smoothing's prediction error (MSE) for Expanding Window with initial size     30, Prediction Size 1, and Expand Size 1: 5.288308559748616\n"
          ]
        },
        {
          "output_type": "stream",
          "name": "stderr",
          "text": [
            "100%|██████████| 1411/1411 [00:03<00:00, 444.88it/s]\n"
          ]
        },
        {
          "output_type": "stream",
          "name": "stdout",
          "text": [
            "Average Exponential Smoothing's prediction error (MSE) for Expanding Window with initial size     100, Prediction Size 1, and Expand Size 1: 5.531357621364127\n"
          ]
        },
        {
          "output_type": "stream",
          "name": "stderr",
          "text": [
            "100%|██████████| 201/201 [00:00<00:00, 436.35it/s]"
          ]
        },
        {
          "output_type": "stream",
          "name": "stdout",
          "text": [
            "Average Exponential Smoothing's prediction error (MSE) for Expanding Window with initial size     100, Prediction Size 7, and Expand Size 7: 17.43480790075782\n"
          ]
        },
        {
          "output_type": "stream",
          "name": "stderr",
          "text": [
            "\n"
          ]
        }
      ]
    },
    {
      "cell_type": "markdown",
      "source": [
        "## **Finding Best Windowing Mechanism for Random Forest**"
      ],
      "metadata": {
        "id": "w7d5QDfp6Zpg"
      }
    },
    {
      "cell_type": "code",
      "source": [
        "import pandas as pd\n",
        "import numpy as np\n",
        "from sklearn.ensemble import RandomForestRegressor\n",
        "from sklearn.metrics import mean_squared_error\n",
        "from tqdm import tqdm\n",
        "\n",
        "# Loading the dataset\n",
        "df = pd.read_csv(\"Microsoft_Stock.csv\")\n",
        "close_series = df[\"Close\"]\n",
        "\n",
        "########################### Single Split ###########################\n",
        "\n",
        "# Train-Test 80-20 split\n",
        "train_size = round(0.8 * len(close_series))\n",
        "\n",
        "# Specifying Train and Test Inputs\n",
        "train_input = np.arange(train_size)\n",
        "test_input = np.arange(train_size,len(close_series))\n",
        "\n",
        "\n",
        "# Specifying Train and Test targets\n",
        "train_data = close_series[:train_size]\n",
        "test_data = close_series[train_size:]\n",
        "\n",
        "# Training Random Forest on the train data with fixed n_estimators and random_state\n",
        "rf = RandomForestRegressor(n_estimators=150, random_state=42)\n",
        "rf.fit(train_input.reshape(-1,1), train_data)\n",
        "\n",
        "# Predicting the future prices, using trained Random Forest model\n",
        "pred_rf = rf.predict(test_input.reshape(-1, 1))\n",
        "\n",
        "# Calculating the Error of Random Forest's prediction\n",
        "pred_err_rf = mean_squared_error(test_data, pred_rf)\n",
        "\n",
        "# Calculating the average Error of Random Forest's prediction\n",
        "print(f\"Random Forest's prediction error (MSE) for 80-20 Single Split is: {pred_err_rf}\")\n",
        "\n",
        "########################### Sliding Window ###########################\n",
        "\n",
        "# Sliding window strategy parameters\n",
        "train_size_list = [7, 30, 100, 30, 100]\n",
        "pred_size_list = [1, 1, 1, 7, 7]\n",
        "slide_size_list = [1, 1, 1, 7, 7]\n",
        "\n",
        "\n",
        "# The fine-tuning loop\n",
        "for train_size, pred_size, slide_size in zip(train_size_list, pred_size_list, slide_size_list):\n",
        "    # Error list\n",
        "    error_list = []\n",
        "\n",
        "    # Looping over the data using sliding window\n",
        "    for i in tqdm(range(train_size, len(close_series) - pred_size + 1, slide_size)):\n",
        "        # Specifying Train and Test Inputs\n",
        "        train_input = np.arange((i-train_size),i)\n",
        "        test_input = np.arange(i,(i+pred_size))\n",
        "\n",
        "        # Specifying Train and Test targets\n",
        "        train_data = close_series[(i-train_size):i]\n",
        "        test_data = close_series[i:(i+pred_size)]\n",
        "\n",
        "        # Training Random Forest on the train data with fixed n_estimators and random_state\n",
        "        rf = RandomForestRegressor(n_estimators=150, random_state=42)\n",
        "        rf.fit(train_input.reshape(-1,1), train_data)\n",
        "\n",
        "        # Predicting the future prices, using trained Random Forest model\n",
        "        pred_rf = rf.predict(test_input.reshape(-1, 1))\n",
        "\n",
        "        # Calculating the Error of Random Forest's prediction\n",
        "        pred_err_rf = mean_squared_error(test_data, pred_rf)\n",
        "        error_list.append(pred_err_rf)\n",
        "\n",
        "    # Calculating the average Error of Random Forest's prediction\n",
        "    print(f\"Average Random Forest's prediction error (MSE) for Sliding Window with size \\\n",
        "    {train_size}, Prediction Size {pred_size}, and Slide Size {slide_size}: {np.mean(error_list)}\")\n",
        "\n",
        "########################### Expanding Window ###########################\n",
        "\n",
        "# Expanding window strategy parameters\n",
        "train_size_list = [30, 100, 100]\n",
        "pred_size_list = [1, 1, 7]\n",
        "slide_size_list = [1, 1, 7]\n",
        "\n",
        "\n",
        "# The fine-tuning loop\n",
        "for train_size, pred_size, slide_size in zip(train_size_list, pred_size_list, slide_size_list):\n",
        "    # Error list\n",
        "    error_list = []\n",
        "\n",
        "    # Looping over the data using expanding window\n",
        "    for i in tqdm(range(train_size, len(close_series) - pred_size + 1, slide_size)):\n",
        "        # Specifying Train and Test Inputs\n",
        "        train_input = np.arange(i)\n",
        "        test_input = np.arange(i,(i+pred_size))\n",
        "\n",
        "        # Specifying Train and Test targets\n",
        "        train_data = close_series[:i]\n",
        "        test_data = close_series[i:(i+pred_size)]\n",
        "\n",
        "        # Training Random Forest on the train data with fixed n_estimators and random_state\n",
        "        rf = RandomForestRegressor(n_estimators=150, random_state=42)\n",
        "        rf.fit(train_input.reshape(-1,1), train_data)\n",
        "\n",
        "        # Predicting the future prices, using trained Random Forest model\n",
        "        pred_rf = rf.predict(test_input.reshape(-1, 1))\n",
        "\n",
        "        # Calculating the Error of Random Forest's prediction\n",
        "        pred_err_rf = mean_squared_error(test_data, pred_rf)\n",
        "        error_list.append(pred_err_rf)\n",
        "\n",
        "    # Calculating the average Error of Random Forest's prediction\n",
        "    print(f\"Average Random Forest's prediction error (MSE) for Expanding Window with intitial size \\\n",
        "    {train_size}, Prediction Size {pred_size}, and Expand Size {slide_size}: {np.mean(error_list)}\")"
      ],
      "metadata": {
        "colab": {
          "base_uri": "https://localhost:8080/"
        },
        "id": "a2wNpuYy6aA6",
        "outputId": "d689d378-1010-40d9-c0aa-18e52060bc5d"
      },
      "execution_count": 9,
      "outputs": [
        {
          "output_type": "stream",
          "name": "stdout",
          "text": [
            "Random Forest's prediction error (MSE) for 80-20 Single Split is: 1920.0768251471586\n"
          ]
        },
        {
          "output_type": "stream",
          "name": "stderr",
          "text": [
            "100%|██████████| 1504/1504 [03:05<00:00,  8.10it/s]\n"
          ]
        },
        {
          "output_type": "stream",
          "name": "stdout",
          "text": [
            "Average Random Forest's prediction error (MSE) for Sliding Window with size     7, Prediction Size 1, and Slide Size 1: 5.208270037644769\n"
          ]
        },
        {
          "output_type": "stream",
          "name": "stderr",
          "text": [
            "100%|██████████| 1481/1481 [03:04<00:00,  8.02it/s]\n"
          ]
        },
        {
          "output_type": "stream",
          "name": "stdout",
          "text": [
            "Average Random Forest's prediction error (MSE) for Sliding Window with size     30, Prediction Size 1, and Slide Size 1: 5.312137955081355\n"
          ]
        },
        {
          "output_type": "stream",
          "name": "stderr",
          "text": [
            "100%|██████████| 1411/1411 [03:01<00:00,  7.79it/s]\n"
          ]
        },
        {
          "output_type": "stream",
          "name": "stdout",
          "text": [
            "Average Random Forest's prediction error (MSE) for Sliding Window with size     100, Prediction Size 1, and Slide Size 1: 5.627801259733792\n"
          ]
        },
        {
          "output_type": "stream",
          "name": "stderr",
          "text": [
            "100%|██████████| 211/211 [00:26<00:00,  8.10it/s]\n"
          ]
        },
        {
          "output_type": "stream",
          "name": "stdout",
          "text": [
            "Average Random Forest's prediction error (MSE) for Sliding Window with size     30, Prediction Size 7, and Slide Size 7: 16.513817194216642\n"
          ]
        },
        {
          "output_type": "stream",
          "name": "stderr",
          "text": [
            "100%|██████████| 201/201 [00:25<00:00,  7.82it/s]\n"
          ]
        },
        {
          "output_type": "stream",
          "name": "stdout",
          "text": [
            "Average Random Forest's prediction error (MSE) for Sliding Window with size     100, Prediction Size 7, and Slide Size 7: 17.30115693926888\n"
          ]
        },
        {
          "output_type": "stream",
          "name": "stderr",
          "text": [
            "100%|██████████| 1481/1481 [04:42<00:00,  5.25it/s]\n"
          ]
        },
        {
          "output_type": "stream",
          "name": "stdout",
          "text": [
            "Average Random Forest's prediction error (MSE) for Expanding Window with intitial size     30, Prediction Size 1, and Expand Size 1: 5.390008503467574\n"
          ]
        },
        {
          "output_type": "stream",
          "name": "stderr",
          "text": [
            "100%|██████████| 1411/1411 [04:35<00:00,  5.12it/s]\n"
          ]
        },
        {
          "output_type": "stream",
          "name": "stdout",
          "text": [
            "Average Random Forest's prediction error (MSE) for Expanding Window with intitial size     100, Prediction Size 1, and Expand Size 1: 5.636422542981283\n"
          ]
        },
        {
          "output_type": "stream",
          "name": "stderr",
          "text": [
            "100%|██████████| 201/201 [00:38<00:00,  5.15it/s]"
          ]
        },
        {
          "output_type": "stream",
          "name": "stdout",
          "text": [
            "Average Random Forest's prediction error (MSE) for Expanding Window with intitial size     100, Prediction Size 7, and Expand Size 7: 17.312980438237467\n"
          ]
        },
        {
          "output_type": "stream",
          "name": "stderr",
          "text": [
            "\n"
          ]
        }
      ]
    }
  ]
}